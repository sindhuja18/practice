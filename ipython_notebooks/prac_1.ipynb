{
 "cells": [
  {
   "cell_type": "code",
   "execution_count": 20,
   "metadata": {
    "collapsed": true
   },
   "outputs": [],
   "source": [
    "import MySQLdb\n",
    "import requests\n",
    "import time\n",
    "from bs4 import BeautifulSoup\n",
    "import bs4"
   ]
  },
  {
   "cell_type": "code",
   "execution_count": 21,
   "metadata": {
    "collapsed": true
   },
   "outputs": [],
   "source": [
    "url = 'http://www.amazon.in/s/ref=s9_acss_bw_cts_VodooFS_T2?rh=i%3Aelectronics%2Cn%3A976419031%2Cn%3A%21976420031%2Cn%3A1389401031%2Cn%3A1389432031%2Cn%3A1805560031%2Cp_98%3A10440597031%2Cp_36%3A800000-1200000&bbn=1805560031&rw_html_to_wsrp=1&pf_rd_m=A1VBAL9TL5WCBF&pf_rd_s=merchandised-search-10&pf_rd_r=1DCNCVXS6XN0NVPT40FW&pf_rd_t=101&pf_rd_p=10bdec8b-c213-48d8-8037-11b8df7fc20f&pf_rd_i=1805560031'"
   ]
  },
  {
   "cell_type": "code",
   "execution_count": 26,
   "metadata": {
    "collapsed": false
   },
   "outputs": [],
   "source": [
    "page = requests.get(url)\n",
    "soup = BeautifulSoup(page.text,'html.parser')\n",
    "prices = soup.find_all('span', attrs={\"class\":\"s-price\"})"
   ]
  },
  {
   "cell_type": "code",
   "execution_count": 27,
   "metadata": {
    "collapsed": false
   },
   "outputs": [
    {
     "name": "stdout",
     "output_type": "stream",
     "text": [
      "[<span class=\"a-size-base a-color-price s-price a-text-bold\"><span class=\"currencyINR\">  </span>11,999.00</span>, <span class=\"a-size-base a-color-price s-price a-text-bold\"><span class=\"currencyINR\">  </span>10,999.00</span>, <span class=\"a-size-base a-color-price s-price a-text-bold\"><span class=\"currencyINR\">  </span>9,990.00</span>, <span class=\"a-size-base a-color-price s-price a-text-bold\"><span class=\"currencyINR\">  </span>11,999.00</span>, <span class=\"a-size-base a-color-price s-price a-text-bold\"><span class=\"currencyINR\">  </span>8,999.00</span>, <span class=\"a-size-base a-color-price s-price a-text-bold\"><span class=\"currencyINR\">  </span>9,999.00</span>, <span class=\"a-size-base a-color-price s-price a-text-bold\"><span class=\"currencyINR\">  </span>11,999.00</span>, <span class=\"a-size-base a-color-price s-price a-text-bold\"><span class=\"currencyINR\">  </span>10,999.00</span>, <span class=\"a-size-base a-color-price s-price a-text-bold\"><span class=\"currencyINR\">  </span>9,754.00</span>, <span class=\"a-size-base a-color-price s-price a-text-bold\"><span class=\"currencyINR\">  </span>9,999.00</span>, <span class=\"a-size-base a-color-price s-price a-text-bold\"><span class=\"currencyINR\">  </span>10,999.00</span>, <span class=\"a-size-base a-color-price s-price a-text-bold\"><span class=\"currencyINR\">  </span>9,990.00</span>, <span class=\"a-size-base a-color-price s-price a-text-bold\"><span class=\"currencyINR\">  </span>9,999.00</span>, <span class=\"a-size-base a-color-price s-price a-text-bold\"><span class=\"currencyINR\">  </span>8,999.00</span>, <span class=\"a-size-base a-color-price s-price a-text-bold\"><span class=\"currencyINR\">  </span>9,088.00</span>, <span class=\"a-size-base a-color-price s-price a-text-bold\"><span class=\"currencyINR\">  </span>9,293.00</span>, <span class=\"a-size-base a-color-price s-price a-text-bold\"><span class=\"currencyINR\">  </span>9,999.00</span>, <span class=\"a-size-base a-color-price s-price a-text-bold\"><span class=\"currencyINR\">  </span>8,650.00</span>, <span class=\"a-size-base a-color-price s-price a-text-bold\"><span class=\"currencyINR\">  </span>10,490.00</span>, <span class=\"a-size-base a-color-price s-price a-text-bold\"><span class=\"currencyINR\">  </span>8,226.00</span>, <span class=\"a-size-base a-color-price s-price a-text-bold\"><span class=\"currencyINR\">  </span>11,490.00</span>, <span class=\"a-size-base a-color-price s-price a-text-bold\"><span class=\"currencyINR\">  </span>10,499.00</span>, <span class=\"a-size-base a-color-price s-price a-text-bold\"><span class=\"currencyINR\">  </span>8,411.00</span>]\n"
     ]
    }
   ],
   "source": [
    "print prices"
   ]
  },
  {
   "cell_type": "code",
   "execution_count": 29,
   "metadata": {
    "collapsed": false
   },
   "outputs": [
    {
     "name": "stdout",
     "output_type": "stream",
     "text": [
      "11999.0\n",
      "10999.0\n",
      "9990.0\n",
      "11999.0\n",
      "8999.0\n",
      "9999.0\n",
      "11999.0\n",
      "10999.0\n",
      "9754.0\n",
      "9999.0\n",
      "10999.0\n",
      "9990.0\n",
      "9999.0\n",
      "8999.0\n",
      "9088.0\n",
      "9293.0\n",
      "9999.0\n",
      "8650.0\n",
      "10490.0\n",
      "8226.0\n",
      "11490.0\n",
      "10499.0\n",
      "8411.0\n"
     ]
    }
   ],
   "source": [
    "strings = [x.text for x in prices if isinstance(x, (bs4.element.Tag)) and x.text.strip()]\n",
    "for strg in strings:\n",
    "    price = float(strg.replace(',',''))\n",
    "    print price"
   ]
  },
  {
   "cell_type": "code",
   "execution_count": 16,
   "metadata": {
    "collapsed": false
   },
   "outputs": [
    {
     "name": "stdout",
     "output_type": "stream",
     "text": [
      "11999.0\n"
     ]
    }
   ],
   "source": [
    "print price"
   ]
  },
  {
   "cell_type": "code",
   "execution_count": null,
   "metadata": {
    "collapsed": true
   },
   "outputs": [],
   "source": []
  }
 ],
 "metadata": {
  "kernelspec": {
   "display_name": "Python 2",
   "language": "python",
   "name": "python2"
  },
  "language_info": {
   "codemirror_mode": {
    "name": "ipython",
    "version": 2
   },
   "file_extension": ".py",
   "mimetype": "text/x-python",
   "name": "python",
   "nbconvert_exporter": "python",
   "pygments_lexer": "ipython2",
   "version": "2.7.12"
  }
 },
 "nbformat": 4,
 "nbformat_minor": 1
}
